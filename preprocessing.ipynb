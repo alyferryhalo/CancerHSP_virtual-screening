{
 "cells": [
  {
   "cell_type": "code",
   "execution_count": 1,
   "id": "a240b40f",
   "metadata": {},
   "outputs": [],
   "source": [
    "import pandas as pd\n",
    "from rdkit import Chem"
   ]
  },
  {
   "cell_type": "code",
   "execution_count": 2,
   "id": "4ab6c33f",
   "metadata": {},
   "outputs": [],
   "source": [
    "data = pd.read_csv('cancerhsp_dataset.csv')"
   ]
  },
  {
   "cell_type": "code",
   "execution_count": 3,
   "id": "986989b2",
   "metadata": {},
   "outputs": [],
   "source": [
    "unique_data = data.drop_duplicates()"
   ]
  },
  {
   "cell_type": "code",
   "execution_count": 4,
   "id": "568404ec",
   "metadata": {},
   "outputs": [],
   "source": [
    "smiles = unique_data['SMILES'].tolist()"
   ]
  },
  {
   "cell_type": "code",
   "execution_count": 5,
   "id": "958e0334",
   "metadata": {},
   "outputs": [],
   "source": [
    "for smile in smiles:\n",
    "    mol = Chem.MolFromSmiles(smile, sanitize=False)\n",
    "    if mol is None:\n",
    "        print('invalid')"
   ]
  },
  {
   "cell_type": "code",
   "execution_count": 6,
   "id": "2a5e345a",
   "metadata": {},
   "outputs": [],
   "source": [
    "unique_data.to_csv('mols_for_VS.csv', sep='\\t')"
   ]
  }
 ],
 "metadata": {
  "kernelspec": {
   "display_name": "Python 3 (ipykernel)",
   "language": "python",
   "name": "python3"
  },
  "language_info": {
   "codemirror_mode": {
    "name": "ipython",
    "version": 3
   },
   "file_extension": ".py",
   "mimetype": "text/x-python",
   "name": "python",
   "nbconvert_exporter": "python",
   "pygments_lexer": "ipython3",
   "version": "3.9.13"
  }
 },
 "nbformat": 4,
 "nbformat_minor": 5
}
